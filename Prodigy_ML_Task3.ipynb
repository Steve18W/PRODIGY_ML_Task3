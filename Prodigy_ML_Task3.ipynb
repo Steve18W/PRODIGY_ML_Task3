{
 "cells": [
  {
   "cell_type": "markdown",
   "id": "95bf7cb8",
   "metadata": {},
   "source": [
    "# Machine Learning Internship Program at Prodigy InfoTech:¶"
   ]
  },
  {
   "cell_type": "raw",
   "id": "b3169b5a",
   "metadata": {},
   "source": [
    "Steve W\n",
    "steve94429@gmail.com\n",
    "9442933527"
   ]
  },
  {
   "cell_type": "markdown",
   "id": "6847a772",
   "metadata": {},
   "source": [
    "# Task-03:\n",
    "\n",
    "Implement a support vector machine (SVM) to classify images of cats and dogs from the Kaggle dataset.\n"
   ]
  },
  {
   "cell_type": "code",
   "execution_count": 1,
   "id": "6ebda7a0",
   "metadata": {},
   "outputs": [
    {
     "name": "stdout",
     "output_type": "stream",
     "text": [
      "Requirement already satisfied: paramiko in d:\\new folder\\lib\\site-packages (3.4.1)\n",
      "Requirement already satisfied: cryptography in d:\\new folder\\lib\\site-packages (43.0.0)\n",
      "Requirement already satisfied: bcrypt>=3.2 in d:\\new folder\\lib\\site-packages (from paramiko) (3.2.0)\n",
      "Requirement already satisfied: pynacl>=1.5 in d:\\new folder\\lib\\site-packages (from paramiko) (1.5.0)\n",
      "Requirement already satisfied: cffi>=1.12 in d:\\new folder\\lib\\site-packages (from cryptography) (1.15.1)\n",
      "Requirement already satisfied: six>=1.4.1 in d:\\new folder\\lib\\site-packages (from bcrypt>=3.2->paramiko) (1.16.0)\n",
      "Requirement already satisfied: pycparser in d:\\new folder\\lib\\site-packages (from cffi>=1.12->cryptography) (2.21)\n",
      "Note: you may need to restart the kernel to use updated packages.\n"
     ]
    },
    {
     "name": "stderr",
     "output_type": "stream",
     "text": [
      "\n",
      "[notice] A new release of pip is available: 24.1 -> 24.2\n",
      "[notice] To update, run: D:\\New folder\\python.exe -m pip install --upgrade pip\n"
     ]
    }
   ],
   "source": [
    "pip install --upgrade paramiko cryptography"
   ]
  },
  {
   "cell_type": "code",
   "execution_count": 2,
   "id": "f24526e8",
   "metadata": {},
   "outputs": [
    {
     "name": "stdout",
     "output_type": "stream",
     "text": [
      "Requirement already satisfied: cryptography in d:\\new folder\\lib\\site-packages (43.0.0)\n",
      "Requirement already satisfied: cffi>=1.12 in d:\\new folder\\lib\\site-packages (from cryptography) (1.15.1)\n",
      "Requirement already satisfied: pycparser in d:\\new folder\\lib\\site-packages (from cffi>=1.12->cryptography) (2.21)\n",
      "Note: you may need to restart the kernel to use updated packages.\n"
     ]
    },
    {
     "name": "stderr",
     "output_type": "stream",
     "text": [
      "\n",
      "[notice] A new release of pip is available: 24.1 -> 24.2\n",
      "[notice] To update, run: D:\\New folder\\python.exe -m pip install --upgrade pip\n"
     ]
    }
   ],
   "source": [
    "pip install cryptography"
   ]
  },
  {
   "cell_type": "code",
   "execution_count": 3,
   "id": "90397898",
   "metadata": {},
   "outputs": [],
   "source": [
    "import warnings\n",
    "\n",
    "warnings.filterwarnings(\"ignore\", category=DeprecationWarning)\n"
   ]
  },
  {
   "cell_type": "code",
   "execution_count": 4,
   "id": "81102d60",
   "metadata": {},
   "outputs": [],
   "source": [
    "import warnings\n",
    "import cryptography\n",
    "\n",
    "warnings.filterwarnings(\"ignore\", category=DeprecationWarning, module='cryptography')\n"
   ]
  },
  {
   "cell_type": "code",
   "execution_count": 5,
   "id": "ac33a9fe",
   "metadata": {},
   "outputs": [
    {
     "name": "stdout",
     "output_type": "stream",
     "text": [
      "Best parameters found:  {'C': 1, 'gamma': 0.001, 'kernel': 'rbf'}\n",
      "Accuracy: 77.48%\n",
      "Classification Report:\n",
      "               precision    recall  f1-score   support\n",
      "\n",
      "         Cat       0.83      0.74      0.78        61\n",
      "         Dog       0.72      0.82      0.77        50\n",
      "\n",
      "    accuracy                           0.77       111\n",
      "   macro avg       0.78      0.78      0.77       111\n",
      "weighted avg       0.78      0.77      0.78       111\n",
      "\n",
      "Confusion Matrix:\n",
      " [[45 16]\n",
      " [ 9 41]]\n"
     ]
    },
    {
     "data": {
      "image/png": "[encoded data removed]",
      "text/plain": [
       "<Figure size 600x600 with 2 Axes>"
      ]
     },
     "metadata": {},
     "output_type": "display_data"
    },
    {
     "name": "stdout",
     "output_type": "stream",
     "text": [
      "\n",
      "Total number of images loaded: 555\n",
      "Number of Cat images: 278\n",
      "Number of Dog images: 277\n"
     ]
    }
   ],
   "source": [
    "import os\n",
    "import cv2\n",
    "import numpy as np\n",
    "from sklearn.model_selection import train_test_split, GridSearchCV\n",
    "from sklearn.preprocessing import StandardScaler\n",
    "from sklearn.svm import SVC\n",
    "from skimage.feature import hog\n",
    "from sklearn.metrics import accuracy_score, classification_report, confusion_matrix\n",
    "import matplotlib.pyplot as plt\n",
    "\n",
    "\n",
    "folder_path = r'C:\\Users\\Steve. W\\Downloads\\train'\n",
    "\n",
    "\n",
    "img_size = 64\n",
    "\n",
    "\n",
    "data = []\n",
    "labels = []\n",
    "file_names = []\n",
    "\n",
    "\n",
    "for root, dirs, files in os.walk(folder_path):\n",
    "    for filename in files:\n",
    "        if filename.endswith(('.png', '.jpg', '.jpeg', '.JPG', '.JPEG')):\n",
    "            file_path = os.path.join(root, filename)\n",
    "            \n",
    "            img = cv2.imread(file_path, cv2.IMREAD_GRAYSCALE) \n",
    "            \n",
    "            img = cv2.resize(img, (img_size, img_size))\n",
    "            \n",
    "            hog_features = hog(img, pixels_per_cell=(8, 8), cells_per_block=(2, 2), block_norm='L2-Hys')\n",
    "            \n",
    "            data.append(hog_features)\n",
    "            file_names.append(filename)\n",
    "            if 'cat' in root.lower():\n",
    "                labels.append(0)  \n",
    "            elif 'dog' in root.lower():\n",
    "                labels.append(1)  \n",
    "\n",
    "\n",
    "data = np.array(data)\n",
    "labels = np.array(labels)\n",
    "\n",
    "\n",
    "X_train, X_test, y_train, y_test, file_names_train, file_names_test = train_test_split(\n",
    "    data, labels, file_names, test_size=0.2, random_state=42)\n",
    "\n",
    "scaler = StandardScaler()\n",
    "X_train = scaler.fit_transform(X_train)\n",
    "X_test = scaler.transform(X_test)\n",
    "\n",
    "\n",
    "parameters = {\n",
    "    'C': [1, 10, 100],\n",
    "    'gamma': [0.001, 0.01, 0.1, 1],\n",
    "    'kernel': ['linear', 'rbf']\n",
    "}\n",
    "svm = GridSearchCV(SVC(), parameters, cv=5)\n",
    "svm.fit(X_train, y_train)\n",
    "\n",
    "\n",
    "print(\"Best parameters found: \", svm.best_params_)\n",
    "\n",
    "\n",
    "y_pred = svm.predict(X_test)\n",
    "\n",
    "\n",
    "label_map = {0: 'Cat', 1: 'Dog'}\n",
    "\n",
    "\n",
    "predictions = [(file_names_test[i], label_map[y_pred[i]], labels[i]) for i in range(len(y_pred))]\n",
    "\n",
    "\n",
    "accuracy = accuracy_score(y_test, y_pred)\n",
    "print(f'Accuracy: {accuracy * 100:.2f}%')\n",
    "\n",
    "print(\"Classification Report:\\n\", classification_report(y_test, y_pred, target_names=['Cat', 'Dog']))\n",
    "\n",
    "conf_matrix = confusion_matrix(y_test, y_pred)\n",
    "print(\"Confusion Matrix:\\n\", conf_matrix)\n",
    "\n",
    "\n",
    "plt.figure(figsize=(6, 6))\n",
    "plt.imshow(conf_matrix, interpolation='nearest', cmap='Blues')\n",
    "plt.title('Confusion Matrix')\n",
    "plt.colorbar()\n",
    "plt.xticks([0, 1], ['Cat', 'Dog'])\n",
    "plt.yticks([0, 1], ['Cat', 'Dog'])\n",
    "plt.xlabel('Predicted Label')\n",
    "plt.ylabel('True Label')\n",
    "plt.show()\n",
    "\n",
    "\n",
    "num_images = len(file_names)\n",
    "num_cats = labels.tolist().count(0)\n",
    "num_dogs = labels.tolist().count(1)\n",
    "\n",
    "print(f\"\\nTotal number of images loaded: {num_images}\")\n",
    "print(f\"Number of Cat images: {num_cats}\")\n",
    "print(f\"Number of Dog images: {num_dogs}\")\n",
    "\n",
    "\n",
    "\n"
   ]
  },
  {
   "cell_type": "code",
   "execution_count": 11,
   "id": "b9959485",
   "metadata": {},
   "outputs": [
    {
     "name": "stdout",
     "output_type": "stream",
     "text": [
      "Found 445 images belonging to 2 classes.\n",
      "Found 110 images belonging to 2 classes.\n",
      "Epoch 1/10\n"
     ]
    },
    {
     "name": "stderr",
     "output_type": "stream",
     "text": [
      "D:\\New folder\\Lib\\site-packages\\keras\\src\\trainers\\data_adapters\\py_dataset_adapter.py:121: UserWarning: Your `PyDataset` class should call `super().__init__(**kwargs)` in its constructor. `**kwargs` can include `workers`, `use_multiprocessing`, `max_queue_size`. Do not pass these arguments to `fit()`, as they will be ignored.\n",
      "  self._warn_if_super_not_called()\n"
     ]
    },
    {
     "name": "stdout",
     "output_type": "stream",
     "text": [
      "\u001b[1m14/14\u001b[0m \u001b[32m━━━━━━━━━━━━━━━━━━━━\u001b[0m\u001b[37m\u001b[0m \u001b[1m28s\u001b[0m 1s/step - accuracy: 0.5113 - loss: 0.7129 - val_accuracy: 0.6909 - val_loss: 0.6423\n",
      "Epoch 2/10\n",
      "\u001b[1m14/14\u001b[0m \u001b[32m━━━━━━━━━━━━━━━━━━━━\u001b[0m\u001b[37m\u001b[0m \u001b[1m20s\u001b[0m 1s/step - accuracy: 0.7245 - loss: 0.5806 - val_accuracy: 0.7273 - val_loss: 0.5869\n",
      "Epoch 3/10\n",
      "\u001b[1m14/14\u001b[0m \u001b[32m━━━━━━━━━━━━━━━━━━━━\u001b[0m\u001b[37m\u001b[0m \u001b[1m20s\u001b[0m 1s/step - accuracy: 0.7426 - loss: 0.5344 - val_accuracy: 0.7273 - val_loss: 0.5650\n",
      "Epoch 4/10\n",
      "\u001b[1m14/14\u001b[0m \u001b[32m━━━━━━━━━━━━━━━━━━━━\u001b[0m\u001b[37m\u001b[0m \u001b[1m20s\u001b[0m 1s/step - accuracy: 0.7748 - loss: 0.4870 - val_accuracy: 0.7273 - val_loss: 0.5520\n",
      "Epoch 5/10\n",
      "\u001b[1m14/14\u001b[0m \u001b[32m━━━━━━━━━━━━━━━━━━━━\u001b[0m\u001b[37m\u001b[0m \u001b[1m20s\u001b[0m 1s/step - accuracy: 0.8026 - loss: 0.4511 - val_accuracy: 0.7545 - val_loss: 0.5434\n",
      "Epoch 6/10\n",
      "\u001b[1m14/14\u001b[0m \u001b[32m━━━━━━━━━━━━━━━━━━━━\u001b[0m\u001b[37m\u001b[0m \u001b[1m20s\u001b[0m 1s/step - accuracy: 0.8254 - loss: 0.4264 - val_accuracy: 0.7182 - val_loss: 0.5364\n",
      "Epoch 7/10\n",
      "\u001b[1m14/14\u001b[0m \u001b[32m━━━━━━━━━━━━━━━━━━━━\u001b[0m\u001b[37m\u001b[0m \u001b[1m21s\u001b[0m 1s/step - accuracy: 0.8400 - loss: 0.4057 - val_accuracy: 0.7273 - val_loss: 0.5338\n",
      "Epoch 8/10\n",
      "\u001b[1m14/14\u001b[0m \u001b[32m━━━━━━━━━━━━━━━━━━━━\u001b[0m\u001b[37m\u001b[0m \u001b[1m20s\u001b[0m 1s/step - accuracy: 0.8723 - loss: 0.3657 - val_accuracy: 0.7727 - val_loss: 0.5303\n",
      "Epoch 9/10\n",
      "\u001b[1m14/14\u001b[0m \u001b[32m━━━━━━━━━━━━━━━━━━━━\u001b[0m\u001b[37m\u001b[0m \u001b[1m20s\u001b[0m 1s/step - accuracy: 0.8720 - loss: 0.3529 - val_accuracy: 0.7455 - val_loss: 0.5235\n",
      "Epoch 10/10\n",
      "\u001b[1m14/14\u001b[0m \u001b[32m━━━━━━━━━━━━━━━━━━━━\u001b[0m\u001b[37m\u001b[0m \u001b[1m20s\u001b[0m 1s/step - accuracy: 0.8804 - loss: 0.3534 - val_accuracy: 0.7727 - val_loss: 0.5220\n"
     ]
    },
    {
     "data": {
      "text/plain": [
       "<keras.src.callbacks.history.History at 0x1bd1227c150>"
      ]
     },
     "execution_count": 11,
     "metadata": {},
     "output_type": "execute_result"
    }
   ],
   "source": [
    "from tensorflow.keras.applications import VGG16\n",
    "from tensorflow.keras.preprocessing.image import ImageDataGenerator\n",
    "from tensorflow.keras.layers import Flatten, Dense\n",
    "from tensorflow.keras.models import Model\n",
    "from tensorflow.keras.optimizers import Adam\n",
    "\n",
    "\n",
    "vgg = VGG16(weights='imagenet', include_top=False, input_shape=(img_size, img_size, 3))\n",
    "\n",
    "\n",
    "for layer in vgg.layers:\n",
    "    layer.trainable = False\n",
    "\n",
    "\n",
    "x = Flatten()(vgg.output)\n",
    "x = Dense(256, activation='relu')(x)\n",
    "output = Dense(1, activation='sigmoid')(x)  \n",
    "\n",
    "model = Model(inputs=vgg.input, outputs=output)\n",
    "\n",
    "\n",
    "model.compile(optimizer=Adam(learning_rate=0.0001), loss='binary_crossentropy', metrics=['accuracy'])\n",
    "\n",
    "\n",
    "datagen = ImageDataGenerator(rescale=1./255, validation_split=0.2)\n",
    "\n",
    "train_generator = datagen.flow_from_directory(\n",
    "    folder_path,\n",
    "    target_size=(img_size, img_size),\n",
    "    batch_size=32,\n",
    "    class_mode='binary',\n",
    "    subset='training')\n",
    "\n",
    "validation_generator = datagen.flow_from_directory(\n",
    "    folder_path,\n",
    "    target_size=(img_size, img_size),\n",
    "    batch_size=32,\n",
    "    class_mode='binary',\n",
    "    subset='validation')\n",
    "\n",
    "\n",
    "model.fit(train_generator, validation_data=validation_generator, epochs=10)\n",
    "\n",
    "\n"
   ]
  },
  {
   "cell_type": "code",
   "execution_count": 12,
   "id": "3a95dec7",
   "metadata": {},
   "outputs": [
    {
     "name": "stdout",
     "output_type": "stream",
     "text": [
      "\n",
      "Image Classification Results:\n",
      "Filename: cat_546.jpg | Classified as: Cat\n",
      "Filename: dog_293.jpg | Classified as: Dog\n",
      "Filename: cat_21.jpg | Classified as: Cat\n",
      "Filename: dog_30.jpg | Classified as: Dog\n",
      "Filename: cat_229.jpg | Classified as: Cat\n",
      "Filename: dog_29.jpg | Classified as: Dog\n",
      "Filename: dog_295.jpg | Classified as: Dog\n",
      "Filename: cat_253.jpg | Classified as: Cat\n",
      "Filename: dog_556.jpg | Classified as: Cat\n",
      "Filename: dog_54.jpg | Classified as: Cat\n",
      "Filename: cat_352.jpg | Classified as: Cat\n",
      "Filename: cat_240.jpg | Classified as: Cat\n",
      "Filename: dog_218.jpg | Classified as: Dog\n",
      "Filename: cat_482.jpg | Classified as: Cat\n",
      "Filename: dog_484.jpg | Classified as: Dog\n",
      "Filename: cat_400.jpg | Classified as: Dog\n",
      "Filename: cat_499.jpg | Classified as: Cat\n",
      "Filename: cat_123.jpg | Classified as: Cat\n",
      "Filename: cat_246.jpg | Classified as: Cat\n",
      "Filename: dog_224.jpg | Classified as: Dog\n",
      "Filename: dog_496.jpg | Classified as: Cat\n",
      "Filename: dog_487.jpg | Classified as: Dog\n",
      "Filename: cat_11.jpg | Classified as: Dog\n",
      "Filename: cat_435.jpg | Classified as: Dog\n",
      "Filename: cat_602.jpg | Classified as: Cat\n",
      "Filename: cat_408.jpg | Classified as: Cat\n",
      "Filename: dog_267.jpg | Classified as: Dog\n",
      "Filename: dog_403.jpg | Classified as: Dog\n",
      "Filename: cat_263.jpg | Classified as: Cat\n",
      "Filename: dog_337.jpg | Classified as: Dog\n",
      "Filename: dog_11.jpg | Classified as: Dog\n",
      "Filename: dog_554.jpg | Classified as: Dog\n",
      "Filename: dog_195.jpg | Classified as: Dog\n",
      "Filename: cat_235.jpg | Classified as: Cat\n",
      "Filename: dog_80.jpg | Classified as: Dog\n",
      "Filename: cat_369.jpg | Classified as: Cat\n",
      "Filename: cat_160.jpg | Classified as: Cat\n",
      "Filename: dog_405.jpg | Classified as: Dog\n",
      "Filename: cat_505.jpg | Classified as: Cat\n",
      "Filename: cat_260.jpg | Classified as: Cat\n",
      "Filename: dog_92.jpg | Classified as: Dog\n",
      "Filename: dog_192.jpg | Classified as: Dog\n",
      "Filename: dog_580.jpg | Classified as: Dog\n",
      "Filename: cat_393.jpg | Classified as: Cat\n",
      "Filename: cat_101.jpg | Classified as: Dog\n",
      "Filename: dog_540.jpg | Classified as: Cat\n",
      "Filename: cat_500.jpg | Classified as: Dog\n",
      "Filename: cat_434.jpg | Classified as: Cat\n",
      "Filename: dog_332.jpg | Classified as: Dog\n",
      "Filename: dog_582.jpg | Classified as: Dog\n",
      "Filename: dog_381.jpg | Classified as: Dog\n",
      "Filename: dog_318.jpg | Classified as: Dog\n",
      "Filename: dog_93.jpg | Classified as: Dog\n",
      "Filename: dog_525.jpg | Classified as: Dog\n",
      "Filename: cat_64.jpg | Classified as: Cat\n",
      "Filename: cat_553.jpg | Classified as: Cat\n",
      "Filename: dog_485.jpg | Classified as: Dog\n",
      "Filename: dog_272.jpg | Classified as: Cat\n",
      "Filename: dog_273.jpg | Classified as: Dog\n",
      "Filename: dog_113.jpg | Classified as: Cat\n",
      "Filename: dog_558.jpg | Classified as: Dog\n",
      "Filename: cat_293.jpg | Classified as: Cat\n",
      "Filename: dog_270.jpg | Classified as: Dog\n",
      "Filename: cat_26.jpg | Classified as: Cat\n",
      "Filename: cat_531.jpg | Classified as: Cat\n",
      "Filename: dog_468.jpg | Classified as: Dog\n",
      "Filename: cat_3.jpg | Classified as: Cat\n",
      "Filename: dog_473.jpg | Classified as: Dog\n",
      "Filename: cat_232.jpg | Classified as: Dog\n",
      "Filename: dog_206.jpg | Classified as: Dog\n",
      "Filename: cat_414.jpg | Classified as: Cat\n",
      "Filename: cat_247.jpg | Classified as: Cat\n",
      "Filename: cat_120.jpg | Classified as: Dog\n",
      "Filename: cat_359.jpg | Classified as: Cat\n",
      "Filename: dog_583.jpg | Classified as: Cat\n",
      "Filename: cat_581.jpg | Classified as: Dog\n",
      "Filename: cat_70.jpg | Classified as: Cat\n",
      "Filename: dog_78.jpg | Classified as: Dog\n",
      "Filename: cat_270.jpg | Classified as: Cat\n",
      "Filename: cat_257.jpg | Classified as: Cat\n",
      "Filename: cat_311.jpg | Classified as: Dog\n",
      "Filename: cat_558.jpg | Classified as: Cat\n",
      "Filename: dog_67.jpg | Classified as: Cat\n",
      "Filename: cat_243.jpg | Classified as: Cat\n",
      "Filename: dog_323.jpg | Classified as: Dog\n",
      "Filename: dog_256.jpg | Classified as: Dog\n",
      "Filename: cat_380.jpg | Classified as: Dog\n",
      "Filename: cat_453.jpg | Classified as: Cat\n",
      "Filename: cat_450.jpg | Classified as: Cat\n",
      "Filename: cat_427.jpg | Classified as: Dog\n",
      "Filename: cat_24.jpg | Classified as: Dog\n",
      "Filename: cat_467.jpg | Classified as: Dog\n",
      "Filename: cat_573.jpg | Classified as: Cat\n",
      "Filename: cat_227.jpg | Classified as: Cat\n",
      "Filename: cat_329.jpg | Classified as: Dog\n",
      "Filename: cat_220.jpg | Classified as: Dog\n",
      "Filename: cat_549.jpg | Classified as: Cat\n",
      "Filename: cat_386.jpg | Classified as: Dog\n",
      "Filename: dog_428.jpg | Classified as: Dog\n",
      "Filename: cat_269.jpg | Classified as: Cat\n",
      "Filename: cat_54.jpg | Classified as: Cat\n",
      "Filename: dog_338.jpg | Classified as: Dog\n",
      "Filename: cat_164.jpg | Classified as: Cat\n",
      "Filename: dog_9.jpg | Classified as: Cat\n",
      "Filename: dog_596.jpg | Classified as: Dog\n",
      "Filename: cat_10.jpg | Classified as: Cat\n",
      "Filename: cat_129.jpg | Classified as: Cat\n",
      "Filename: dog_103.jpg | Classified as: Dog\n",
      "Filename: cat_148.jpg | Classified as: Cat\n",
      "Filename: dog_294.jpg | Classified as: Dog\n",
      "Filename: dog_483.jpg | Classified as: Dog\n"
     ]
    }
   ],
   "source": [
    "\n",
    "predictions = [(file_names_test[i], label_map[y_pred[i]], labels[i]) for i in range(len(y_pred))]\n",
    "\n",
    "\n",
    "print(\"\\nImage Classification Results:\")\n",
    "for filename, predicted_label, _ in predictions:\n",
    "    print(f\"Filename: {filename} | Classified as: {predicted_label}\")\n"
   ]
  },
  {
   "cell_type": "code",
   "execution_count": null,
   "id": "c139fedf",
   "metadata": {},
   "outputs": [],
   "source": []
  }
 ],
 "metadata": {
  "kernelspec": {
   "display_name": "Python 3 (ipykernel)",
   "language": "python",
   "name": "python3"
  },
  "language_info": {
   "codemirror_mode": {
    "name": "ipython",
    "version": 3
   },
   "file_extension": ".py",
   "mimetype": "text/x-python",
   "name": "python",
   "nbconvert_exporter": "python",
   "pygments_lexer": "ipython3",
   "version": "3.11.4"
  }
 },
 "nbformat": 4,
 "nbformat_minor": 5
}
